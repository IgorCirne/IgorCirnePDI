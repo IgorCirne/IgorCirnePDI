import cv2
import numpy as np
import matplotlib.pyplot as plt

def load_image_from_yml(filename):
    # Lê o arquivo YAML com OpenCV
    fs = cv2.FileStorage(filename, cv2.FILE_STORAGE_READ)
    image = fs.getNode("mat").mat()
    fs.release()
    return image

def plot_lines_and_difference(image1, image2, line_number):
    # Seleciona a linha específica de cada imagem
    line1 = image1[line_number, :]
    line2 = image2[line_number, :]

    # Calcula a diferença entre as linhas
    difference = line1 - line2
    absolute = np.abs(line1 - line2)

    # Plota as linhas e a diferença no mesmo gráfico
    plt.figure(figsize=(12, 6))
    plt.plot(line1, label='Linha de fig1 (senóide 8)', linestyle='-', color='green')
    plt.plot(line2, label='Linha de fig2 (senóide 4)', linestyle='-', color='red')
    plt.plot(difference, label='Diferença entre as senóides (fig1 - fig2)', linestyle='-', color='orange')
    plt.plot(absolute, label='Diferença em módulo entre as senóides (fig1 - fig2)', linestyle=':', color='black')
    
    plt.axhline(0, color='black', linewidth=0.5)
    plt.xlabel('Pixel')
    plt.ylabel('Intensidade/Diferença de Intensidade')
    plt.title('Linhas das Imagens e Diferença')
    plt.legend()
    plt.grid(True)
    plt.show()

# Carrega as imagens dos arquivos .yml
image1 = load_image_from_yml('8-senoide-256.yml')
image2 = load_image_from_yml('4-senoide-256.yml')

# Número da linha a ser comparada (por exemplo, a linha 128)
line_number = 128

# Plota as linhas das imagens e a diferença entre elas
plot_lines_and_difference(image1, image2, line_number)
